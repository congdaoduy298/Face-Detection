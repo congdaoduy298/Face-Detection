{
  "nbformat": 4,
  "nbformat_minor": 0,
  "metadata": {
    "kernelspec": {
      "display_name": "Python 3",
      "language": "python",
      "name": "python3"
    },
    "language_info": {
      "codemirror_mode": {
        "name": "ipython",
        "version": 3
      },
      "file_extension": ".py",
      "mimetype": "text/x-python",
      "name": "python",
      "nbconvert_exporter": "python",
      "pygments_lexer": "ipython3",
      "version": "3.8.2"
    },
    "colab": {
      "name": "face_recognition.ipynb",
      "provenance": [],
      "collapsed_sections": []
    },
    "accelerator": "GPU"
  },
  "cells": [
    {
      "cell_type": "code",
      "metadata": {
        "id": "OszJUr-syReA",
        "colab_type": "code",
        "colab": {
          "base_uri": "https://localhost:8080/",
          "height": 315
        },
        "outputId": "e8b5a384-40b2-4586-ca68-1c4fe028fffc"
      },
      "source": [
        "#################################################\n",
        "!pip3 install face_recognition"
      ],
      "execution_count": 1,
      "outputs": [
        {
          "output_type": "stream",
          "text": [
            "Collecting face_recognition\n",
            "  Downloading https://files.pythonhosted.org/packages/1e/95/f6c9330f54ab07bfa032bf3715c12455a381083125d8880c43cbe76bb3d0/face_recognition-1.3.0-py2.py3-none-any.whl\n",
            "Requirement already satisfied: dlib>=19.7 in /usr/local/lib/python3.6/dist-packages (from face_recognition) (19.18.0)\n",
            "Requirement already satisfied: numpy in /usr/local/lib/python3.6/dist-packages (from face_recognition) (1.18.5)\n",
            "Requirement already satisfied: Click>=6.0 in /usr/local/lib/python3.6/dist-packages (from face_recognition) (7.1.2)\n",
            "Requirement already satisfied: Pillow in /usr/local/lib/python3.6/dist-packages (from face_recognition) (7.0.0)\n",
            "Collecting face-recognition-models>=0.3.0\n",
            "\u001b[?25l  Downloading https://files.pythonhosted.org/packages/cf/3b/4fd8c534f6c0d1b80ce0973d01331525538045084c73c153ee6df20224cf/face_recognition_models-0.3.0.tar.gz (100.1MB)\n",
            "\u001b[K     |████████████████████████████████| 100.2MB 31kB/s \n",
            "\u001b[?25hBuilding wheels for collected packages: face-recognition-models\n",
            "  Building wheel for face-recognition-models (setup.py) ... \u001b[?25l\u001b[?25hdone\n",
            "  Created wheel for face-recognition-models: filename=face_recognition_models-0.3.0-py2.py3-none-any.whl size=100566172 sha256=35aec062d45af17f5e00b0ed9a5823a704e9058189a4a95a8f30026718e64d7c\n",
            "  Stored in directory: /root/.cache/pip/wheels/d2/99/18/59c6c8f01e39810415c0e63f5bede7d83dfb0ffc039865465f\n",
            "Successfully built face-recognition-models\n",
            "Installing collected packages: face-recognition-models, face-recognition\n",
            "Successfully installed face-recognition-1.3.0 face-recognition-models-0.3.0\n"
          ],
          "name": "stdout"
        }
      ]
    },
    {
      "cell_type": "code",
      "metadata": {
        "id": "keqtakouy7o0",
        "colab_type": "code",
        "colab": {
          "base_uri": "https://localhost:8080/",
          "height": 124
        },
        "outputId": "ad9984d8-fc40-452e-ff0d-b7704a848729"
      },
      "source": [
        "from google.colab import drive\n",
        "drive.mount('/content/drive')"
      ],
      "execution_count": 2,
      "outputs": [
        {
          "output_type": "stream",
          "text": [
            "Go to this URL in a browser: https://accounts.google.com/o/oauth2/auth?client_id=947318989803-6bn6qk8qdgf4n4g3pfee6491hc0brc4i.apps.googleusercontent.com&redirect_uri=urn%3aietf%3awg%3aoauth%3a2.0%3aoob&response_type=code&scope=email%20https%3a%2f%2fwww.googleapis.com%2fauth%2fdocs.test%20https%3a%2f%2fwww.googleapis.com%2fauth%2fdrive%20https%3a%2f%2fwww.googleapis.com%2fauth%2fdrive.photos.readonly%20https%3a%2f%2fwww.googleapis.com%2fauth%2fpeopleapi.readonly\n",
            "\n",
            "Enter your authorization code:\n",
            "··········\n",
            "Mounted at /content/drive\n"
          ],
          "name": "stdout"
        }
      ]
    },
    {
      "cell_type": "code",
      "metadata": {
        "id": "qa5TCHJFzKmA",
        "colab_type": "code",
        "colab": {
          "base_uri": "https://localhost:8080/",
          "height": 34
        },
        "outputId": "39727051-0534-4e14-f718-da24c0342fa4"
      },
      "source": [
        "%cd /content/drive/My\\ Drive/DeepLearning/FaceNet"
      ],
      "execution_count": 3,
      "outputs": [
        {
          "output_type": "stream",
          "text": [
            "/content/drive/My Drive/DeepLearning/FaceNet\n"
          ],
          "name": "stdout"
        }
      ]
    },
    {
      "cell_type": "code",
      "metadata": {
        "id": "xfBR7WX5xjAT",
        "colab_type": "code",
        "colab": {}
      },
      "source": [
        "import cv2 \n",
        "import os \n",
        "import numpy as np \n",
        "from face_recognition import face_locations, load_image_file\n",
        "import glob \n",
        "import pickle"
      ],
      "execution_count": 4,
      "outputs": []
    },
    {
      "cell_type": "code",
      "metadata": {
        "id": "9MEfv-zSxjAx",
        "colab_type": "code",
        "colab": {}
      },
      "source": [
        "def loadModel(model_path):\n",
        "    # Model was trained on PyTorch \n",
        "    # So we must load model to openCV \n",
        "    model = cv2.dnn.readNetFromTorch(model_path)\n",
        "    return model"
      ],
      "execution_count": 5,
      "outputs": []
    },
    {
      "cell_type": "code",
      "metadata": {
        "id": "rdU99aU2xjBO",
        "colab_type": "code",
        "colab": {}
      },
      "source": [
        "# Convert original image to blob image to reduce noise for photo due to lighting \n",
        "def blobImage(img, scale_factor=1.0, size=(300, 300), mean=(104.0, 177.0, 123.0)):\n",
        "    # Use bloFromImages for batches, load and process multiple images\n",
        "    imageBlob = cv2.dnn.blobFromImage(img, scalefactor=scale_factor, \n",
        "                                    size=size, mean=mean, swapRB=False)\n",
        "    return imageBlob"
      ],
      "execution_count": 6,
      "outputs": []
    },
    {
      "cell_type": "code",
      "metadata": {
        "id": "WAU8qDy4xjBh",
        "colab_type": "code",
        "colab": {}
      },
      "source": [
        "def faceRecognition(img_path, single=True):\n",
        "    faces = load_image_file(img_path)\n",
        "    # faces = face_locations(img)\n",
        "    # img = cv2.cvtColor(img, cv2.COLOR_BGR2RGB)\n",
        "    name = img_path.split('/')[-1].split('.')[0]\n",
        "    if name not in labels:\n",
        "        labels.append(name)\n",
        "    label = labels.index(name)\n",
        "    return faces, label"
      ],
      "execution_count": 70,
      "outputs": []
    },
    {
      "cell_type": "code",
      "metadata": {
        "id": "h1SOKIElxjBx",
        "colab_type": "code",
        "colab": {}
      },
      "source": [
        "def savePickle(obj, path):\n",
        "    with open(path, 'wb') as f:\n",
        "        pickle.dump(obj, f)\n",
        "\n",
        "def loadPickle(path):\n",
        "    with open(path, 'rb') as f:\n",
        "        obj = pickle.load(f)\n",
        "    return obj "
      ],
      "execution_count": 46,
      "outputs": []
    },
    {
      "cell_type": "code",
      "metadata": {
        "id": "1FuasUPK2jSj",
        "colab_type": "code",
        "colab": {
          "base_uri": "https://localhost:8080/",
          "height": 208
        },
        "outputId": "8539af4e-7aa1-462c-c8b8-89a1d63fea0d"
      },
      "source": [
        "!wget https://vismod.media.mit.edu/vismod/classes/mas622-00/datasets/YALE.tar.gz"
      ],
      "execution_count": 9,
      "outputs": [
        {
          "output_type": "stream",
          "text": [
            "--2020-07-03 06:00:01--  https://vismod.media.mit.edu/vismod/classes/mas622-00/datasets/YALE.tar.gz\n",
            "Resolving vismod.media.mit.edu (vismod.media.mit.edu)... 18.27.72.36\n",
            "Connecting to vismod.media.mit.edu (vismod.media.mit.edu)|18.27.72.36|:443... connected.\n",
            "HTTP request sent, awaiting response... 200 OK\n",
            "Length: 30032961 (29M) [application/x-gzip]\n",
            "Saving to: ‘YALE.tar.gz.1’\n",
            "\n",
            "YALE.tar.gz.1       100%[===================>]  28.64M  17.4MB/s    in 1.6s    \n",
            "\n",
            "2020-07-03 06:00:03 (17.4 MB/s) - ‘YALE.tar.gz.1’ saved [30032961/30032961]\n",
            "\n"
          ],
          "name": "stdout"
        }
      ]
    },
    {
      "cell_type": "code",
      "metadata": {
        "id": "H--CuqZB2sNK",
        "colab_type": "code",
        "colab": {}
      },
      "source": [
        "# !tar -xf YALE.tar.gz"
      ],
      "execution_count": null,
      "outputs": []
    },
    {
      "cell_type": "code",
      "metadata": {
        "id": "TsU7MCyBTdax",
        "colab_type": "code",
        "colab": {
          "base_uri": "https://localhost:8080/",
          "height": 972
        },
        "outputId": "3a65042a-fd3b-468d-af09-aa4701935a57"
      },
      "source": [
        "!ls ./YALE/centered"
      ],
      "execution_count": 13,
      "outputs": [
        {
          "output_type": "stream",
          "text": [
            "subject01.centerlight.pgm  subject06.centerlight.pgm  subject11.centerlight.pgm\n",
            "subject01.glasses.pgm\t   subject06.glasses.pgm      subject11.glasses.pgm\n",
            "subject01.happy.pgm\t   subject06.happy.pgm\t      subject11.happy.pgm\n",
            "subject01.leftlight.pgm    subject06.leftlight.pgm    subject11.leftlight.pgm\n",
            "subject01.noglasses.pgm    subject06.noglasses.pgm    subject11.noglasses.pgm\n",
            "subject01.normal.pgm\t   subject06.normal.pgm       subject11.normal.pgm\n",
            "subject01.rightlight.pgm   subject06.rightlight.pgm   subject11.rightlight.pgm\n",
            "subject01.sad.pgm\t   subject06.sad.pgm\t      subject11.sad.pgm\n",
            "subject01.sleepy.pgm\t   subject06.sleepy.pgm       subject11.sleepy.pgm\n",
            "subject01.surprised.pgm    subject06.surprised.pgm    subject11.surprised.pgm\n",
            "subject01.wink.pgm\t   subject06.wink.pgm\t      subject11.wink.pgm\n",
            "subject02.centerlight.pgm  subject07.centerlight.pgm  subject12.centerlight.pgm\n",
            "subject02.glasses.pgm\t   subject07.glasses.pgm      subject12.glasses.pgm\n",
            "subject02.happy.pgm\t   subject07.happy.pgm\t      subject12.happy.pgm\n",
            "subject02.leftlight.pgm    subject07.leftlight.pgm    subject12.leftlight.pgm\n",
            "subject02.noglasses.pgm    subject07.noglasses.pgm    subject12.noglasses.pgm\n",
            "subject02.normal.pgm\t   subject07.normal.pgm       subject12.normal.pgm\n",
            "subject02.rightlight.pgm   subject07.rightlight.pgm   subject12.rightlight.pgm\n",
            "subject02.sad.pgm\t   subject07.sad.pgm\t      subject12.sad.pgm\n",
            "subject02.sleepy.pgm\t   subject07.sleepy.pgm       subject12.sleepy.pgm\n",
            "subject02.surprised.pgm    subject07.surprised.pgm    subject12.surprised.pgm\n",
            "subject02.wink.pgm\t   subject07.wink.pgm\t      subject12.wink.pgm\n",
            "subject03.centerlight.pgm  subject08.centerlight.pgm  subject13.centerlight.pgm\n",
            "subject03.glasses.pgm\t   subject08.glasses.pgm      subject13.glasses.pgm\n",
            "subject03.happy.pgm\t   subject08.happy.pgm\t      subject13.happy.pgm\n",
            "subject03.leftlight.pgm    subject08.leftlight.pgm    subject13.leftlight.pgm\n",
            "subject03.noglasses.pgm    subject08.noglasses.pgm    subject13.noglasses.pgm\n",
            "subject03.normal.pgm\t   subject08.normal.pgm       subject13.normal.pgm\n",
            "subject03.rightlight.pgm   subject08.rightlight.pgm   subject13.rightlight.pgm\n",
            "subject03.sad.pgm\t   subject08.sad.pgm\t      subject13.sad.pgm\n",
            "subject03.sleepy.pgm\t   subject08.sleepy.pgm       subject13.sleepy.pgm\n",
            "subject03.surprised.pgm    subject08.surprised.pgm    subject13.surprised.pgm\n",
            "subject03.wink.pgm\t   subject08.wink.pgm\t      subject13.wink.pgm\n",
            "subject04.centerlight.pgm  subject09.centerlight.pgm  subject14.centerlight.pgm\n",
            "subject04.glasses.pgm\t   subject09.glasses.pgm      subject14.glasses.pgm\n",
            "subject04.happy.pgm\t   subject09.happy.pgm\t      subject14.happy.pgm\n",
            "subject04.leftlight.pgm    subject09.leftlight.pgm    subject14.leftlight.pgm\n",
            "subject04.noglasses.pgm    subject09.noglasses.pgm    subject14.noglasses.pgm\n",
            "subject04.normal.pgm\t   subject09.normal.pgm       subject14.normal.pgm\n",
            "subject04.rightlight.pgm   subject09.rightlight.pgm   subject14.rightlight.pgm\n",
            "subject04.sad.pgm\t   subject09.sad.pgm\t      subject14.sad.pgm\n",
            "subject04.sleepy.pgm\t   subject09.sleepy.pgm       subject14.sleepy.pgm\n",
            "subject04.surprised.pgm    subject09.surprised.pgm    subject14.surprised.pgm\n",
            "subject04.wink.pgm\t   subject09.wink.pgm\t      subject14.wink.pgm\n",
            "subject05.centerlight.pgm  subject10.centerlight.pgm  subject15.centerlight.pgm\n",
            "subject05.glasses.pgm\t   subject10.glasses.pgm      subject15.glasses.pgm\n",
            "subject05.happy.pgm\t   subject10.happy.pgm\t      subject15.happy.pgm\n",
            "subject05.leftlight.pgm    subject10.leftlight.pgm    subject15.leftlight.pgm\n",
            "subject05.noglasses.pgm    subject10.noglasses.pgm    subject15.noglasses.pgm\n",
            "subject05.normal.pgm\t   subject10.normal.pgm       subject15.normal.pgm\n",
            "subject05.rightlight.pgm   subject10.rightlight.pgm   subject15.rightlight.pgm\n",
            "subject05.sad.pgm\t   subject10.sad.pgm\t      subject15.sad.pgm\n",
            "subject05.sleepy.pgm\t   subject10.sleepy.pgm       subject15.sleepy.pgm\n",
            "subject05.surprised.pgm    subject10.surprised.pgm    subject15.surprised.pgm\n",
            "subject05.wink.pgm\t   subject10.wink.pgm\t      subject15.wink.pgm\n"
          ],
          "name": "stdout"
        }
      ]
    },
    {
      "cell_type": "code",
      "metadata": {
        "id": "qsRFHxzWxjCA",
        "colab_type": "code",
        "colab": {
          "base_uri": "https://localhost:8080/",
          "height": 34
        },
        "outputId": "9a5bcf85-f356-4dda-d0e1-e9c487758b1c"
      },
      "source": [
        "imgs_path = glob.glob('./YALE/centered/*.pgm')\n",
        "\n",
        "labels = []\n",
        "print(f\"Number of images : {len(imgs_path)}\")\n",
        "num = 0; all_faces = []\n",
        "all_links = []; all_labels = []\n",
        "for img_path in imgs_path:\n",
        "    out, label = faceRecognition(img_path)\n",
        "    num += 1 \n",
        "    all_faces.append(out)\n",
        "    all_labels.append(label)\n",
        "    all_links.append(img_path)"
      ],
      "execution_count": 71,
      "outputs": [
        {
          "output_type": "stream",
          "text": [
            "Number of images : 165\n"
          ],
          "name": "stdout"
        }
      ]
    },
    {
      "cell_type": "code",
      "metadata": {
        "id": "Qj9kU6t_xjCT",
        "colab_type": "code",
        "colab": {
          "base_uri": "https://localhost:8080/",
          "height": 34
        },
        "outputId": "1c814833-e371-4e89-9786-e95ae9b89469"
      },
      "source": [
        "# Use pretrain to get embedding vectors from images\n",
        "def embeddingFaces(encoder, faces):\n",
        "    embed_vecs = []\n",
        "    for face in faces:\n",
        "        faceBlob = blobImage(face, size=(96, 96), scale_factor=1/255.0, mean=(0, 0, 0))\n",
        "        encoder.setInput(faceBlob)\n",
        "        vec = encoder.forward()\n",
        "        embed_vecs.append(vec)\n",
        "    return embed_vecs\n",
        "\n",
        "model = loadModel('./nn4.small2.v1.t7')\n",
        "embed_faces = embeddingFaces(model, all_faces)\n",
        "embed_faces[0].shape"
      ],
      "execution_count": 72,
      "outputs": [
        {
          "output_type": "execute_result",
          "data": {
            "text/plain": [
              "(1, 128)"
            ]
          },
          "metadata": {
            "tags": []
          },
          "execution_count": 72
        }
      ]
    },
    {
      "cell_type": "code",
      "metadata": {
        "id": "_co1MpSDxjCc",
        "colab_type": "code",
        "colab": {}
      },
      "source": [
        "savePickle(all_faces, './Dataset/faces.pkl')\n",
        "savePickle(all_labels, './Dataset/labels.pkl')\n",
        "savePickle(all_links, './Dataset/links.pkl')\n",
        "savePickle(embed_faces, './Dataset/embed_faces.pkl')"
      ],
      "execution_count": 73,
      "outputs": []
    },
    {
      "cell_type": "code",
      "metadata": {
        "id": "cbxvuJ9WxjCu",
        "colab_type": "code",
        "colab": {}
      },
      "source": [
        "from sklearn.model_selection import train_test_split\n",
        "\n",
        "ids = np.arange(len(all_faces))\n",
        "X_train, X_test, y_train, y_test, ids_train, ids_test = train_test_split(np.stack(embed_faces), all_labels, \n",
        "                                                                         ids, test_size=0.2, stratify=all_labels)\n",
        "X_train = np.squeeze(X_train, axis=1)\n",
        "X_test = np.squeeze(X_test, axis=1)"
      ],
      "execution_count": 74,
      "outputs": []
    },
    {
      "cell_type": "code",
      "metadata": {
        "id": "hjcgc8OsxjDE",
        "colab_type": "code",
        "colab": {
          "base_uri": "https://localhost:8080/",
          "height": 52
        },
        "outputId": "31e7617d-55c3-4eca-af21-7e7901122ea8"
      },
      "source": [
        "print(f\"Number of training data : {len(X_train)}\")\n",
        "print(f\"Number of testing data : {len(X_test)}\")"
      ],
      "execution_count": 75,
      "outputs": [
        {
          "output_type": "stream",
          "text": [
            "Number of training data : 132\n",
            "Number of testing data : 33\n"
          ],
          "name": "stdout"
        }
      ]
    },
    {
      "cell_type": "code",
      "metadata": {
        "id": "x4erwhOzxjDN",
        "colab_type": "code",
        "colab": {}
      },
      "source": [
        "savePickle(ids_train, './Dataset/ids_train.pkl')\n",
        "savePickle(ids_test, './Dataset/ids_test.pkl')"
      ],
      "execution_count": 76,
      "outputs": []
    },
    {
      "cell_type": "code",
      "metadata": {
        "id": "1ry5zd6axjDW",
        "colab_type": "code",
        "colab": {
          "base_uri": "https://localhost:8080/",
          "height": 34
        },
        "outputId": "54976ae8-f5e9-440f-a8c0-a83d55bd4631"
      },
      "source": [
        "from sklearn.metrics.pairwise import cosine_similarity\n",
        "\n",
        "def k_most_similarity(X, vec, y, k):\n",
        "    simi = cosine_similarity(X, vec)\n",
        "    simi = simi.squeeze(1)\n",
        "    ids = simi.argsort()[-k:][::-1]\n",
        "    counts = np.zeros_like(labels, dtype=int)\n",
        "    for idx in ids:\n",
        "        counts[y[idx]] += 1\n",
        "    return counts.argmax()\n",
        "#     idx = simi.argmax()\n",
        "#     return y[idx]\n",
        "\n",
        "vec = X_test[1].reshape(1, -1)\n",
        "print(k_most_similarity(X_train, vec, y_train, 1))"
      ],
      "execution_count": 77,
      "outputs": [
        {
          "output_type": "stream",
          "text": [
            "5\n"
          ],
          "name": "stdout"
        }
      ]
    },
    {
      "cell_type": "code",
      "metadata": {
        "id": "tZ_H3ko5xjDx",
        "colab_type": "code",
        "colab": {}
      },
      "source": [
        "# LOAD ALL DATA \n",
        "all_faces = loadPickle('./Dataset/faces.pkl')\n",
        "all_labels = loadPickle('./Dataset/labels.pkl')\n",
        "all_links = loadPickle('./Dataset/links.pkl')\n",
        "embed_faces = loadPickle('./Dataset/embed_faces.pkl')\n",
        "ids_train = loadPickle('./Dataset/ids_train.pkl')\n",
        "ids_test = loadPickle('./Dataset/ids_test.pkl')\n",
        "\n",
        "X_train = []; X_test = []\n",
        "y_train = []; y_test = []\n",
        "\n",
        "for idx in ids_train:\n",
        "    X_train.append(embed_faces[idx])\n",
        "    y_train.append(all_labels[idx])\n",
        "for idx in ids_test:\n",
        "    X_test.append(embed_faces[idx])\n",
        "    y_test.append(all_labels[idx])\n",
        "\n",
        "X_train, X_test = np.stack(X_train), np.stack(X_test)\n",
        "X_train, X_test = X_train.squeeze(1), X_test.squeeze(1)"
      ],
      "execution_count": 78,
      "outputs": []
    },
    {
      "cell_type": "code",
      "metadata": {
        "id": "TjgPRVlWxjD-",
        "colab_type": "code",
        "colab": {
          "base_uri": "https://localhost:8080/",
          "height": 52
        },
        "outputId": "4cb76b24-fc11-47a2-a37e-bd50795004f0"
      },
      "source": [
        "from sklearn.metrics import accuracy_score \n",
        "\n",
        "def results(k_most, vecs_train, vecs_pred):\n",
        "  y_preds = []\n",
        "  for vec in vecs_pred:\n",
        "      vec = vec.reshape(1, -1)\n",
        "      y_pred = k_most_similarity(vecs_train, vec, y_train, k_most)\n",
        "      y_preds.append(y_pred)\n",
        "\n",
        "  return accuracy_score(y_preds, y_test)\n",
        "\n",
        "print(f\"The accuracy of selecting one most similar vectors : {results(1, X_train, X_test)}\")\n",
        "print(f\"The accuracy of selecting five most similar vectors : {results(5, X_train, X_test)}\")"
      ],
      "execution_count": 80,
      "outputs": [
        {
          "output_type": "stream",
          "text": [
            "The accuracy of selecting one most similar vectors : 0.8787878787878788\n",
            "The accuracy of selecting five most similar vectors : 0.8181818181818182\n"
          ],
          "name": "stdout"
        }
      ]
    },
    {
      "cell_type": "code",
      "metadata": {
        "id": "qN5FwNozN_AM",
        "colab_type": "code",
        "colab": {}
      },
      "source": [
        "################################################################################\n",
        "#     USE VGG19 TO FEATURE ENGINEERING EXTRACT 128 VECTORS                     #\n",
        "################################################################################"
      ],
      "execution_count": 25,
      "outputs": []
    },
    {
      "cell_type": "code",
      "metadata": {
        "id": "skBK8l69xjES",
        "colab_type": "code",
        "colab": {
          "base_uri": "https://localhost:8080/",
          "height": 819
        },
        "outputId": "210d8943-2eab-43f9-a495-bd8a5f8202b5"
      },
      "source": [
        "!pip3 install keras\n",
        "!pip3 install tensorflow"
      ],
      "execution_count": 26,
      "outputs": [
        {
          "output_type": "stream",
          "text": [
            "Requirement already satisfied: keras in /usr/local/lib/python3.6/dist-packages (2.3.1)\n",
            "Requirement already satisfied: keras-preprocessing>=1.0.5 in /usr/local/lib/python3.6/dist-packages (from keras) (1.1.2)\n",
            "Requirement already satisfied: h5py in /usr/local/lib/python3.6/dist-packages (from keras) (2.10.0)\n",
            "Requirement already satisfied: numpy>=1.9.1 in /usr/local/lib/python3.6/dist-packages (from keras) (1.18.5)\n",
            "Requirement already satisfied: six>=1.9.0 in /usr/local/lib/python3.6/dist-packages (from keras) (1.12.0)\n",
            "Requirement already satisfied: scipy>=0.14 in /usr/local/lib/python3.6/dist-packages (from keras) (1.4.1)\n",
            "Requirement already satisfied: pyyaml in /usr/local/lib/python3.6/dist-packages (from keras) (3.13)\n",
            "Requirement already satisfied: keras-applications>=1.0.6 in /usr/local/lib/python3.6/dist-packages (from keras) (1.0.8)\n",
            "Requirement already satisfied: tensorflow in /usr/local/lib/python3.6/dist-packages (2.2.0)\n",
            "Requirement already satisfied: absl-py>=0.7.0 in /usr/local/lib/python3.6/dist-packages (from tensorflow) (0.9.0)\n",
            "Requirement already satisfied: tensorboard<2.3.0,>=2.2.0 in /usr/local/lib/python3.6/dist-packages (from tensorflow) (2.2.2)\n",
            "Requirement already satisfied: tensorflow-estimator<2.3.0,>=2.2.0 in /usr/local/lib/python3.6/dist-packages (from tensorflow) (2.2.0)\n",
            "Requirement already satisfied: wheel>=0.26; python_version >= \"3\" in /usr/local/lib/python3.6/dist-packages (from tensorflow) (0.34.2)\n",
            "Requirement already satisfied: grpcio>=1.8.6 in /usr/local/lib/python3.6/dist-packages (from tensorflow) (1.30.0)\n",
            "Requirement already satisfied: scipy==1.4.1; python_version >= \"3\" in /usr/local/lib/python3.6/dist-packages (from tensorflow) (1.4.1)\n",
            "Requirement already satisfied: astunparse==1.6.3 in /usr/local/lib/python3.6/dist-packages (from tensorflow) (1.6.3)\n",
            "Requirement already satisfied: six>=1.12.0 in /usr/local/lib/python3.6/dist-packages (from tensorflow) (1.12.0)\n",
            "Requirement already satisfied: h5py<2.11.0,>=2.10.0 in /usr/local/lib/python3.6/dist-packages (from tensorflow) (2.10.0)\n",
            "Requirement already satisfied: termcolor>=1.1.0 in /usr/local/lib/python3.6/dist-packages (from tensorflow) (1.1.0)\n",
            "Requirement already satisfied: numpy<2.0,>=1.16.0 in /usr/local/lib/python3.6/dist-packages (from tensorflow) (1.18.5)\n",
            "Requirement already satisfied: keras-preprocessing>=1.1.0 in /usr/local/lib/python3.6/dist-packages (from tensorflow) (1.1.2)\n",
            "Requirement already satisfied: wrapt>=1.11.1 in /usr/local/lib/python3.6/dist-packages (from tensorflow) (1.12.1)\n",
            "Requirement already satisfied: gast==0.3.3 in /usr/local/lib/python3.6/dist-packages (from tensorflow) (0.3.3)\n",
            "Requirement already satisfied: opt-einsum>=2.3.2 in /usr/local/lib/python3.6/dist-packages (from tensorflow) (3.2.1)\n",
            "Requirement already satisfied: google-pasta>=0.1.8 in /usr/local/lib/python3.6/dist-packages (from tensorflow) (0.2.0)\n",
            "Requirement already satisfied: protobuf>=3.8.0 in /usr/local/lib/python3.6/dist-packages (from tensorflow) (3.10.0)\n",
            "Requirement already satisfied: setuptools>=41.0.0 in /usr/local/lib/python3.6/dist-packages (from tensorboard<2.3.0,>=2.2.0->tensorflow) (47.3.1)\n",
            "Requirement already satisfied: tensorboard-plugin-wit>=1.6.0 in /usr/local/lib/python3.6/dist-packages (from tensorboard<2.3.0,>=2.2.0->tensorflow) (1.6.0.post3)\n",
            "Requirement already satisfied: requests<3,>=2.21.0 in /usr/local/lib/python3.6/dist-packages (from tensorboard<2.3.0,>=2.2.0->tensorflow) (2.23.0)\n",
            "Requirement already satisfied: werkzeug>=0.11.15 in /usr/local/lib/python3.6/dist-packages (from tensorboard<2.3.0,>=2.2.0->tensorflow) (1.0.1)\n",
            "Requirement already satisfied: markdown>=2.6.8 in /usr/local/lib/python3.6/dist-packages (from tensorboard<2.3.0,>=2.2.0->tensorflow) (3.2.2)\n",
            "Requirement already satisfied: google-auth-oauthlib<0.5,>=0.4.1 in /usr/local/lib/python3.6/dist-packages (from tensorboard<2.3.0,>=2.2.0->tensorflow) (0.4.1)\n",
            "Requirement already satisfied: google-auth<2,>=1.6.3 in /usr/local/lib/python3.6/dist-packages (from tensorboard<2.3.0,>=2.2.0->tensorflow) (1.17.2)\n",
            "Requirement already satisfied: chardet<4,>=3.0.2 in /usr/local/lib/python3.6/dist-packages (from requests<3,>=2.21.0->tensorboard<2.3.0,>=2.2.0->tensorflow) (3.0.4)\n",
            "Requirement already satisfied: certifi>=2017.4.17 in /usr/local/lib/python3.6/dist-packages (from requests<3,>=2.21.0->tensorboard<2.3.0,>=2.2.0->tensorflow) (2020.6.20)\n",
            "Requirement already satisfied: idna<3,>=2.5 in /usr/local/lib/python3.6/dist-packages (from requests<3,>=2.21.0->tensorboard<2.3.0,>=2.2.0->tensorflow) (2.9)\n",
            "Requirement already satisfied: urllib3!=1.25.0,!=1.25.1,<1.26,>=1.21.1 in /usr/local/lib/python3.6/dist-packages (from requests<3,>=2.21.0->tensorboard<2.3.0,>=2.2.0->tensorflow) (1.24.3)\n",
            "Requirement already satisfied: importlib-metadata; python_version < \"3.8\" in /usr/local/lib/python3.6/dist-packages (from markdown>=2.6.8->tensorboard<2.3.0,>=2.2.0->tensorflow) (1.6.1)\n",
            "Requirement already satisfied: requests-oauthlib>=0.7.0 in /usr/local/lib/python3.6/dist-packages (from google-auth-oauthlib<0.5,>=0.4.1->tensorboard<2.3.0,>=2.2.0->tensorflow) (1.3.0)\n",
            "Requirement already satisfied: pyasn1-modules>=0.2.1 in /usr/local/lib/python3.6/dist-packages (from google-auth<2,>=1.6.3->tensorboard<2.3.0,>=2.2.0->tensorflow) (0.2.8)\n",
            "Requirement already satisfied: cachetools<5.0,>=2.0.0 in /usr/local/lib/python3.6/dist-packages (from google-auth<2,>=1.6.3->tensorboard<2.3.0,>=2.2.0->tensorflow) (4.1.0)\n",
            "Requirement already satisfied: rsa<5,>=3.1.4; python_version >= \"3\" in /usr/local/lib/python3.6/dist-packages (from google-auth<2,>=1.6.3->tensorboard<2.3.0,>=2.2.0->tensorflow) (4.6)\n",
            "Requirement already satisfied: zipp>=0.5 in /usr/local/lib/python3.6/dist-packages (from importlib-metadata; python_version < \"3.8\"->markdown>=2.6.8->tensorboard<2.3.0,>=2.2.0->tensorflow) (3.1.0)\n",
            "Requirement already satisfied: oauthlib>=3.0.0 in /usr/local/lib/python3.6/dist-packages (from requests-oauthlib>=0.7.0->google-auth-oauthlib<0.5,>=0.4.1->tensorboard<2.3.0,>=2.2.0->tensorflow) (3.1.0)\n",
            "Requirement already satisfied: pyasn1<0.5.0,>=0.4.6 in /usr/local/lib/python3.6/dist-packages (from pyasn1-modules>=0.2.1->google-auth<2,>=1.6.3->tensorboard<2.3.0,>=2.2.0->tensorflow) (0.4.8)\n"
          ],
          "name": "stdout"
        }
      ]
    },
    {
      "cell_type": "code",
      "metadata": {
        "id": "ntFMMspoxjEa",
        "colab_type": "code",
        "colab": {
          "base_uri": "https://localhost:8080/",
          "height": 920
        },
        "outputId": "afff5c7d-0e5b-4ef0-ad24-4e056cb8859d"
      },
      "source": [
        "from tensorflow.keras.layers import Dense, Flatten, Lambda\n",
        "from tensorflow.keras.models import Model \n",
        "from tensorflow.keras.applications import VGG16\n",
        "from tensorflow.keras.optimizers import Adam \n",
        "import tensorflow as tf\n",
        "def build_model():\n",
        "    model = VGG16(include_top=True, weights=None)\n",
        "    dense = Dense(128)(model.layers[-4].output)\n",
        "    norm2 = Lambda(lambda x: tf.math.l2_normalize(x, axis=1))(dense)\n",
        "    model = Model(inputs=[model.input], outputs=[norm2])\n",
        "    return model \n",
        "\n",
        "model = build_model()\n",
        "model.summary()"
      ],
      "execution_count": 81,
      "outputs": [
        {
          "output_type": "stream",
          "text": [
            "Model: \"model_2\"\n",
            "_________________________________________________________________\n",
            "Layer (type)                 Output Shape              Param #   \n",
            "=================================================================\n",
            "input_3 (InputLayer)         [(None, 224, 224, 3)]     0         \n",
            "_________________________________________________________________\n",
            "block1_conv1 (Conv2D)        (None, 224, 224, 64)      1792      \n",
            "_________________________________________________________________\n",
            "block1_conv2 (Conv2D)        (None, 224, 224, 64)      36928     \n",
            "_________________________________________________________________\n",
            "block1_pool (MaxPooling2D)   (None, 112, 112, 64)      0         \n",
            "_________________________________________________________________\n",
            "block2_conv1 (Conv2D)        (None, 112, 112, 128)     73856     \n",
            "_________________________________________________________________\n",
            "block2_conv2 (Conv2D)        (None, 112, 112, 128)     147584    \n",
            "_________________________________________________________________\n",
            "block2_pool (MaxPooling2D)   (None, 56, 56, 128)       0         \n",
            "_________________________________________________________________\n",
            "block3_conv1 (Conv2D)        (None, 56, 56, 256)       295168    \n",
            "_________________________________________________________________\n",
            "block3_conv2 (Conv2D)        (None, 56, 56, 256)       590080    \n",
            "_________________________________________________________________\n",
            "block3_conv3 (Conv2D)        (None, 56, 56, 256)       590080    \n",
            "_________________________________________________________________\n",
            "block3_pool (MaxPooling2D)   (None, 28, 28, 256)       0         \n",
            "_________________________________________________________________\n",
            "block4_conv1 (Conv2D)        (None, 28, 28, 512)       1180160   \n",
            "_________________________________________________________________\n",
            "block4_conv2 (Conv2D)        (None, 28, 28, 512)       2359808   \n",
            "_________________________________________________________________\n",
            "block4_conv3 (Conv2D)        (None, 28, 28, 512)       2359808   \n",
            "_________________________________________________________________\n",
            "block4_pool (MaxPooling2D)   (None, 14, 14, 512)       0         \n",
            "_________________________________________________________________\n",
            "block5_conv1 (Conv2D)        (None, 14, 14, 512)       2359808   \n",
            "_________________________________________________________________\n",
            "block5_conv2 (Conv2D)        (None, 14, 14, 512)       2359808   \n",
            "_________________________________________________________________\n",
            "block5_conv3 (Conv2D)        (None, 14, 14, 512)       2359808   \n",
            "_________________________________________________________________\n",
            "block5_pool (MaxPooling2D)   (None, 7, 7, 512)         0         \n",
            "_________________________________________________________________\n",
            "flatten (Flatten)            (None, 25088)             0         \n",
            "_________________________________________________________________\n",
            "dense_2 (Dense)              (None, 128)               3211392   \n",
            "_________________________________________________________________\n",
            "lambda_2 (Lambda)            (None, 128)               0         \n",
            "=================================================================\n",
            "Total params: 17,926,080\n",
            "Trainable params: 17,926,080\n",
            "Non-trainable params: 0\n",
            "_________________________________________________________________\n"
          ],
          "name": "stdout"
        }
      ]
    },
    {
      "cell_type": "code",
      "metadata": {
        "id": "3nTyXU7VxjEh",
        "colab_type": "code",
        "colab": {}
      },
      "source": [
        "def resize_image(faces):\n",
        "    face_rs = []\n",
        "    for face in faces:\n",
        "        face = cv2.resize(face, dsize=(224, 224))\n",
        "        face_rs.append(face)\n",
        "    return face_rs \n",
        "\n",
        "all_faces = loadPickle('./Dataset/faces.pkl')\n",
        "all_faces = resize_image(all_faces)"
      ],
      "execution_count": 82,
      "outputs": []
    },
    {
      "cell_type": "code",
      "metadata": {
        "id": "m61j6LfvxjEm",
        "colab_type": "code",
        "colab": {
          "base_uri": "https://localhost:8080/",
          "height": 52
        },
        "outputId": "64a15eff-0e42-4800-b61e-2b5eda21800b"
      },
      "source": [
        "!pip3 install tensorflow_addons"
      ],
      "execution_count": 29,
      "outputs": [
        {
          "output_type": "stream",
          "text": [
            "Requirement already satisfied: tensorflow_addons in /usr/local/lib/python3.6/dist-packages (0.8.3)\n",
            "Requirement already satisfied: typeguard in /usr/local/lib/python3.6/dist-packages (from tensorflow_addons) (2.7.1)\n"
          ],
          "name": "stdout"
        }
      ]
    },
    {
      "cell_type": "code",
      "metadata": {
        "id": "MlvrgP_jxjEt",
        "colab_type": "code",
        "colab": {}
      },
      "source": [
        "import tensorflow_addons as tfa \n",
        "model.compile(optimizer=Adam(0.001),\n",
        "             loss=tfa.losses.TripletSemiHardLoss())"
      ],
      "execution_count": 83,
      "outputs": []
    },
    {
      "cell_type": "code",
      "metadata": {
        "id": "D0NEkgqzxjE5",
        "colab_type": "code",
        "colab": {
          "base_uri": "https://localhost:8080/",
          "height": 34
        },
        "outputId": "1dbff085-5946-4fef-cc95-9fc6abc226cc"
      },
      "source": [
        "all_faces = np.stack(all_faces)\n",
        "all_faces.shape"
      ],
      "execution_count": 84,
      "outputs": [
        {
          "output_type": "execute_result",
          "data": {
            "text/plain": [
              "(165, 224, 224, 3)"
            ]
          },
          "metadata": {
            "tags": []
          },
          "execution_count": 84
        }
      ]
    },
    {
      "cell_type": "code",
      "metadata": {
        "id": "n9B4f64GxjFA",
        "colab_type": "code",
        "colab": {}
      },
      "source": [
        "ids_train = loadPickle('./Dataset/ids_train.pkl')\n",
        "ids_test = loadPickle('./Dataset/ids_test.pkl')\n",
        "\n",
        "all_labels = loadPickle('./Dataset/labels.pkl')\n",
        "all_labels = np.array(all_labels)\n",
        "# X_train = all_faces[ids_train]/127.5 - 1\n",
        "# X_test = all_faces[ids_test]/127.5 -1\n",
        "X_train = all_faces[ids_train]\n",
        "X_test = all_faces[ids_test]\n",
        "\n",
        "y_train = all_labels[ids_train]\n",
        "y_test = all_labels[ids_test]"
      ],
      "execution_count": 85,
      "outputs": []
    },
    {
      "cell_type": "code",
      "metadata": {
        "id": "wI3BMPJtkSjy",
        "colab_type": "code",
        "colab": {
          "base_uri": "https://localhost:8080/",
          "height": 34
        },
        "outputId": "11069842-a782-438e-c878-f1119b158756"
      },
      "source": [
        "X_train.shape"
      ],
      "execution_count": 86,
      "outputs": [
        {
          "output_type": "execute_result",
          "data": {
            "text/plain": [
              "(132, 224, 224, 3)"
            ]
          },
          "metadata": {
            "tags": []
          },
          "execution_count": 86
        }
      ]
    },
    {
      "cell_type": "code",
      "metadata": {
        "id": "nXIrJxiVxjFK",
        "colab_type": "code",
        "colab": {}
      },
      "source": [
        "gen_train = tf.data.Dataset.from_tensor_slices((X_train, y_train)).repeat().shuffle(1024).batch(32)"
      ],
      "execution_count": 87,
      "outputs": []
    },
    {
      "cell_type": "code",
      "metadata": {
        "id": "pZVFPdhLxjFS",
        "colab_type": "code",
        "colab": {
          "base_uri": "https://localhost:8080/",
          "height": 364
        },
        "outputId": "de0819e7-2492-46b6-e9b3-1c3ac5d4aa80"
      },
      "source": [
        "# history = model.fit(X_train, y_train, batch_size=1, epochs=50)\n",
        "history = model.fit(\n",
        "    gen_train,\n",
        "    steps_per_epoch = 50,\n",
        "    epochs=10)"
      ],
      "execution_count": 88,
      "outputs": [
        {
          "output_type": "stream",
          "text": [
            "Epoch 1/10\n",
            "50/50 [==============================] - 41s 818ms/step - loss: 0.9689\n",
            "Epoch 2/10\n",
            "50/50 [==============================] - 41s 810ms/step - loss: 0.8011\n",
            "Epoch 3/10\n",
            "50/50 [==============================] - 40s 809ms/step - loss: 0.5197\n",
            "Epoch 4/10\n",
            "50/50 [==============================] - 40s 806ms/step - loss: 0.1806\n",
            "Epoch 5/10\n",
            "50/50 [==============================] - 40s 799ms/step - loss: 0.0273\n",
            "Epoch 6/10\n",
            "50/50 [==============================] - 40s 797ms/step - loss: 0.0116\n",
            "Epoch 7/10\n",
            "50/50 [==============================] - 40s 793ms/step - loss: 0.0055\n",
            "Epoch 8/10\n",
            "50/50 [==============================] - 39s 787ms/step - loss: 3.0003e-04\n",
            "Epoch 9/10\n",
            "50/50 [==============================] - 39s 789ms/step - loss: 3.6592e-04\n",
            "Epoch 10/10\n",
            "50/50 [==============================] - 39s 788ms/step - loss: 7.0336e-06\n"
          ],
          "name": "stdout"
        }
      ]
    },
    {
      "cell_type": "code",
      "metadata": {
        "id": "Y5HV1_ckB7gk",
        "colab_type": "code",
        "colab": {}
      },
      "source": [
        "vecs_train = model.predict(X_train)\n",
        "vecs_pred = model.predict(X_test)"
      ],
      "execution_count": 89,
      "outputs": []
    },
    {
      "cell_type": "code",
      "metadata": {
        "id": "FEerNLsJ4F8l",
        "colab_type": "code",
        "colab": {
          "base_uri": "https://localhost:8080/",
          "height": 69
        },
        "outputId": "c0cdb988-587f-4940-9309-65668b267572"
      },
      "source": [
        "print(f\"The accuracy of selecting one most similar vectors : {results(1, vecs_train, vecs_pred)}\")\n",
        "print(f\"The accuracy of selecting five most similar vectors : {results(5, vecs_train, vecs_pred)}\")\n",
        "print(f\"The accuracy of selecting ten most similar vectors : {results(10, vecs_train, vecs_pred)}\")"
      ],
      "execution_count": 90,
      "outputs": [
        {
          "output_type": "stream",
          "text": [
            "The accuracy of selecting one most similar vectors : 0.9393939393939394\n",
            "The accuracy of selecting five most similar vectors : 0.9393939393939394\n",
            "The accuracy of selecting ten most similar vectors : 0.9393939393939394\n"
          ],
          "name": "stdout"
        }
      ]
    },
    {
      "cell_type": "code",
      "metadata": {
        "id": "2nRujwdnCjeJ",
        "colab_type": "code",
        "colab": {
          "base_uri": "https://localhost:8080/",
          "height": 554
        },
        "outputId": "1b59950a-720d-4a3b-dc81-da6fe56296d8"
      },
      "source": [
        "import matplotlib.pyplot as plt\n",
        "\n",
        "y_preds = []\n",
        "for vec in vecs_pred:\n",
        "    vec = vec.reshape(1, -1)\n",
        "    y_pred = k_most_similarity(vecs_train, vec, y_train, 1)\n",
        "    y_preds.append(y_pred)\n",
        "\n",
        "idx_diff = np.flatnonzero(np.array(y_preds) != np.array(y_test))\n",
        "\n",
        "fg, ax = plt.subplots(2, 1, figsize=(4, 8))\n",
        "fg.suptitle('Wrong predict images')\n",
        "\n",
        "# imgs = np.array((X_test+1)*127.5, dtype=int)\n",
        "\n",
        "for i in np.arange(2):\n",
        "    ax[i].imshow(X_test[idx_diff[i]])\n",
        "    ax[i].set_xlabel(f'{labels[y_test[idx_diff[i]]]} != {labels[y_preds[idx_diff[i]]]}')\n",
        "    # ax[i, j].axis('off')"
      ],
      "execution_count": 103,
      "outputs": [
        {
          "output_type": "display_data",
          "data": {
            "image/png": "[encoded data removed]",
            "text/plain": [
              "<Figure size 288x576 with 2 Axes>"
            ]
          },
          "metadata": {
            "tags": [],
            "needs_background": "light"
          }
        }
      ]
    },
    {
      "cell_type": "code",
      "metadata": {
        "id": "Jgj-NNMh0UcB",
        "colab_type": "code",
        "colab": {}
      },
      "source": [
        "###############################################################################\n",
        "#                     USE DATA AUGMENTATION                                   #\n",
        "###############################################################################"
      ],
      "execution_count": null,
      "outputs": []
    },
    {
      "cell_type": "code",
      "metadata": {
        "id": "WqJkl7M9X0V9",
        "colab_type": "code",
        "colab": {}
      },
      "source": [
        "from tensorflow.keras.preprocessing.image import ImageDataGenerator\n",
        "\n",
        "datagen = ImageDataGenerator(\n",
        "    featurewise_center=True,\n",
        "    featurewise_std_normalization=True,\n",
        "    rotation_range=20,\n",
        "    width_shift_range=0.2,\n",
        "    height_shift_range=0.2,\n",
        "    horizontal_flip=True)\n",
        "\n",
        "datagen.fit(X_train)"
      ],
      "execution_count": 105,
      "outputs": []
    },
    {
      "cell_type": "code",
      "metadata": {
        "id": "N7KB2P_XYCd9",
        "colab_type": "code",
        "colab": {}
      },
      "source": [
        "no_batch = 0\n",
        "X_au = []\n",
        "y_au = []\n",
        "for i in np.arange(len(X_train)):\n",
        "  no_img = 0\n",
        "  for x in datagen.flow(np.expand_dims(X_train[i], axis = 0), batch_size = 1):\n",
        "    X_au.append(x[0])\n",
        "    y_au.append(y_train[i])\n",
        "    no_img += 1\n",
        "    if no_img == 5:\n",
        "      break"
      ],
      "execution_count": 106,
      "outputs": []
    },
    {
      "cell_type": "code",
      "metadata": {
        "id": "o8a76_iNYuit",
        "colab_type": "code",
        "colab": {}
      },
      "source": [
        "import tensorflow_addons as tfa\n",
        "model2 = build_model()\n",
        "\n",
        "model2.compile(\n",
        "    optimizer=tf.keras.optimizers.Adam(0.001),\n",
        "    loss=tfa.losses.TripletSemiHardLoss())"
      ],
      "execution_count": 107,
      "outputs": []
    },
    {
      "cell_type": "code",
      "metadata": {
        "id": "4Q5GBocVZY8s",
        "colab_type": "code",
        "colab": {
          "base_uri": "https://localhost:8080/",
          "height": 34
        },
        "outputId": "d186c0b9-5804-435b-c9ab-744ba57929dd"
      },
      "source": [
        "gen_train2 = tf.data.Dataset.from_tensor_slices((X_au, y_au)).repeat().shuffle(1024).batch(64)\n",
        "gen_train2"
      ],
      "execution_count": 108,
      "outputs": [
        {
          "output_type": "execute_result",
          "data": {
            "text/plain": [
              "<BatchDataset shapes: ((None, 224, 224, 3), (None,)), types: (tf.float32, tf.int32)>"
            ]
          },
          "metadata": {
            "tags": []
          },
          "execution_count": 108
        }
      ]
    },
    {
      "cell_type": "code",
      "metadata": {
        "id": "mXqgNCX9Zi18",
        "colab_type": "code",
        "colab": {
          "base_uri": "https://localhost:8080/",
          "height": 712
        },
        "outputId": "0d360168-4d9e-46a3-a5d7-1aaf97690842"
      },
      "source": [
        "history = model2.fit(\n",
        "    gen_train2,\n",
        "    steps_per_epoch = 50,\n",
        "    epochs=20)"
      ],
      "execution_count": 109,
      "outputs": [
        {
          "output_type": "stream",
          "text": [
            "Epoch 1/20\n",
            "50/50 [==============================] - 85s 2s/step - loss: 0.9684\n",
            "Epoch 2/20\n",
            "50/50 [==============================] - 85s 2s/step - loss: 0.9663\n",
            "Epoch 3/20\n",
            "50/50 [==============================] - 85s 2s/step - loss: 0.9501\n",
            "Epoch 4/20\n",
            "50/50 [==============================] - 84s 2s/step - loss: 0.9299\n",
            "Epoch 5/20\n",
            "50/50 [==============================] - 84s 2s/step - loss: 0.9094\n",
            "Epoch 6/20\n",
            "50/50 [==============================] - 84s 2s/step - loss: 0.8430\n",
            "Epoch 7/20\n",
            "50/50 [==============================] - 84s 2s/step - loss: 0.7641\n",
            "Epoch 8/20\n",
            "50/50 [==============================] - 84s 2s/step - loss: 0.6910\n",
            "Epoch 9/20\n",
            "50/50 [==============================] - 84s 2s/step - loss: 0.5540\n",
            "Epoch 10/20\n",
            "50/50 [==============================] - 84s 2s/step - loss: 0.4437\n",
            "Epoch 11/20\n",
            "50/50 [==============================] - 84s 2s/step - loss: 0.3009\n",
            "Epoch 12/20\n",
            "50/50 [==============================] - 84s 2s/step - loss: 0.1930\n",
            "Epoch 13/20\n",
            "50/50 [==============================] - 83s 2s/step - loss: 0.0890\n",
            "Epoch 14/20\n",
            "50/50 [==============================] - 83s 2s/step - loss: 0.0465\n",
            "Epoch 15/20\n",
            "50/50 [==============================] - 83s 2s/step - loss: 0.0275\n",
            "Epoch 16/20\n",
            "50/50 [==============================] - 83s 2s/step - loss: 0.0123\n",
            "Epoch 17/20\n",
            "50/50 [==============================] - 82s 2s/step - loss: 0.0022\n",
            "Epoch 18/20\n",
            "50/50 [==============================] - 81s 2s/step - loss: 3.1457e-04\n",
            "Epoch 19/20\n",
            "50/50 [==============================] - 81s 2s/step - loss: 5.0034e-05\n",
            "Epoch 20/20\n",
            "50/50 [==============================] - 81s 2s/step - loss: 1.7819e-05\n"
          ],
          "name": "stdout"
        }
      ]
    },
    {
      "cell_type": "code",
      "metadata": {
        "id": "rDohQRXyhw4u",
        "colab_type": "code",
        "colab": {}
      },
      "source": [
        "data_tf = ImageDataGenerator(\n",
        "    featurewise_center=True,\n",
        "    featurewise_std_normalization=True,\n",
        "    rotation_range=20,\n",
        "    # width_shift_range=0.2,\n",
        "    # height_shift_range=0.2,\n",
        "    horizontal_flip=True\n",
        "    )\n",
        "\n",
        "data_tf.fit(X_test)\n",
        "\n",
        "no_batch = 0\n",
        "X_test_tf = []\n",
        "for i in np.arange(len(X_test)):\n",
        "  no_img = 0\n",
        "  for x in data_tf.flow(np.expand_dims(X_test[i], axis = 0), batch_size = 1):\n",
        "    X_test_tf.append(x[0])\n",
        "    no_img += 1\n",
        "    if no_img == 1:\n",
        "      break"
      ],
      "execution_count": 114,
      "outputs": []
    },
    {
      "cell_type": "code",
      "metadata": {
        "id": "LUFcrrhCZmoo",
        "colab_type": "code",
        "colab": {}
      },
      "source": [
        "vecs_train = model2.predict(np.stack(X_au))\n",
        "vecs_pred = model2.predict(np.stack(X_test_tf))"
      ],
      "execution_count": 111,
      "outputs": []
    },
    {
      "cell_type": "code",
      "metadata": {
        "id": "I89DokTthSbv",
        "colab_type": "code",
        "colab": {}
      },
      "source": [
        "def results(k_most, vecs_train, vecs_pred):\n",
        "  y_preds = []\n",
        "  for vec in vecs_pred:\n",
        "      vec = vec.reshape(1, -1)\n",
        "      y_pred = k_most_similarity(vecs_train, vec, y_au, k_most)\n",
        "      y_preds.append(y_pred)\n",
        "\n",
        "  return accuracy_score(y_preds, y_test)"
      ],
      "execution_count": 112,
      "outputs": []
    },
    {
      "cell_type": "code",
      "metadata": {
        "id": "s9C_YujugPMX",
        "colab_type": "code",
        "colab": {
          "base_uri": "https://localhost:8080/",
          "height": 69
        },
        "outputId": "17a44d23-36b1-4e04-b824-fed50b00d6c6"
      },
      "source": [
        "print(f\"The accuracy of selecting one most similar vectors : {results(1, vecs_train, vecs_pred)}\")\n",
        "print(f\"The accuracy of selecting five most similar vectors : {results(5, vecs_train, vecs_pred)}\")\n",
        "print(f\"The accuracy of selecting ten most similar vectors : {results(10, vecs_train, vecs_pred)}\")"
      ],
      "execution_count": 113,
      "outputs": [
        {
          "output_type": "stream",
          "text": [
            "The accuracy of selecting one most similar vectors : 0.9696969696969697\n",
            "The accuracy of selecting five most similar vectors : 0.9696969696969697\n",
            "The accuracy of selecting ten most similar vectors : 0.9696969696969697\n"
          ],
          "name": "stdout"
        }
      ]
    }
  ]
}